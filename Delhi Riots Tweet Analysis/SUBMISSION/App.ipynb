{
 "cells": [
  {
   "cell_type": "code",
   "execution_count": 1,
   "metadata": {},
   "outputs": [
    {
     "name": "stdout",
     "output_type": "stream",
     "text": [
      "importing Jupyter notebook from backend.ipynb\n",
      "Authentication successfull!!! :D\n"
     ]
    }
   ],
   "source": [
    "from tkinter import *\n",
    "from tkinter import ttk\n",
    "import import_ipynb\n",
    "import backend\n",
    "\n",
    "root=Tk()\n",
    "mainframe = ttk.Frame(root, padding=\"20 20 24 24\")\n",
    "mainframe.grid(column=0, row=0, sticky=(N, W, E, S))\n",
    "mainframe.columnconfigure(0, weight=1)\n",
    "mainframe.rowconfigure(0, weight=1)\n",
    "\n",
    "\n",
    "variable1=StringVar() # Value saved here\n",
    "\n",
    "def search():\n",
    "    url = variable1.get()\n",
    "    result = 'Error'\n",
    "    try:\n",
    "        result = backend.solve(url)\n",
    "    except:\n",
    "        pass\n",
    "    print (result)\n",
    "    labelvar.set(result)\n",
    "    return ''\n",
    "\n",
    "ttk.Entry(mainframe, width=7, textvariable=variable1).grid(column=2, row=1)\n",
    "\n",
    "ttk.Label(mainframe, text=\"label\").grid(column=1, row=1)\n",
    "\n",
    "ttk.Button(mainframe, text=\"Search\", command=search).grid(column=2, row=13)\n",
    "\n",
    "ttk.Label(mainframe, text=\"Output :\").grid(column=1, row=25)\n",
    "labelvar = StringVar()\n",
    "labelvar.set(\"None\")\n",
    "ttk.Label(mainframe, textvariable = labelvar).grid(column=3, row=25)\n",
    "\n",
    "\n",
    "\n",
    "root.mainloop()"
   ]
  },
  {
   "cell_type": "code",
   "execution_count": null,
   "metadata": {},
   "outputs": [],
   "source": []
  }
 ],
 "metadata": {
  "kernelspec": {
   "display_name": "Python 3",
   "language": "python",
   "name": "python3"
  },
  "language_info": {
   "codemirror_mode": {
    "name": "ipython",
    "version": 3
   },
   "file_extension": ".py",
   "mimetype": "text/x-python",
   "name": "python",
   "nbconvert_exporter": "python",
   "pygments_lexer": "ipython3",
   "version": "3.7.3"
  }
 },
 "nbformat": 4,
 "nbformat_minor": 2
}
