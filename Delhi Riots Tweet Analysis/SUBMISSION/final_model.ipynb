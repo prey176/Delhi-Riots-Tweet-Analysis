{
 "cells": [
  {
   "cell_type": "markdown",
   "metadata": {},
   "source": [
    "# DataSet - Training"
   ]
  },
  {
   "cell_type": "code",
   "execution_count": 62,
   "metadata": {},
   "outputs": [
    {
     "name": "stdout",
     "output_type": "stream",
     "text": [
      "(1093, 12)\n"
     ]
    }
   ],
   "source": [
    "import csv\n",
    "import numpy as np\n",
    "\n",
    "\n",
    "dataset = []\n",
    "index = 0\n",
    "fields = ['verified', 'profile_location', 'profile_name', 'profile_image', 'account_date', 'profile_desc', 'fav_count', 'retweet_count', 'tweet_location', 'text', 'media', 'rumour_label']\n",
    "with open(\"train_data.csv\",'r') as file:\n",
    "    file = csv.reader(file)\n",
    "    header = next(file)\n",
    "    for row in file:\n",
    "        dataset.append(row)\n",
    "\n",
    "dataset = np.array(dataset)\n",
    "np.random.seed()\n",
    "np.random.shuffle(dataset)\n",
    "print(dataset.shape)"
   ]
  },
  {
   "cell_type": "markdown",
   "metadata": {},
   "source": [
    "# Authentication - Twitter Api"
   ]
  },
  {
   "cell_type": "code",
   "execution_count": 63,
   "metadata": {
    "scrolled": true
   },
   "outputs": [
    {
     "name": "stdout",
     "output_type": "stream",
     "text": [
      "Authentication successfull!!! :D\n"
     ]
    }
   ],
   "source": [
    "import os\n",
    "import tweepy\n",
    "\n",
    "auth = tweepy.OAuthHandler('s9iqHQMCnqbRSTYLZijznltjj', 'edpnKGn7l90SPKoFBc5eiBi2kEjb5sFe5CfH2vZ4O51g1lvfXw')\n",
    "# Access Token, Access Token Secret\n",
    "auth.set_access_token('914187849875914752-qyp1TmXtXp4BDUOzknUlPdF9owp582g', '7SpLBABZOAnph1j1AmA6AYodpdWdRx0IXHaWQ7muTwQKM')\n",
    "api = tweepy.API(auth)\n",
    "\n",
    "if (not api):\n",
    "    print(\"Authentication failed :(\")\n",
    "else:\n",
    "    print(\"Authentication successfull!!! :D\")"
   ]
  },
  {
   "cell_type": "markdown",
   "metadata": {},
   "source": [
    "# Extracting features and labels - Training Set"
   ]
  },
  {
   "cell_type": "code",
   "execution_count": 64,
   "metadata": {},
   "outputs": [
    {
     "name": "stdout",
     "output_type": "stream",
     "text": [
      "(1093, 9)\n"
     ]
    }
   ],
   "source": [
    "numFeatures = dataset.shape[1]-1\n",
    "numSamples = dataset.shape[0]\n",
    "\n",
    "labels = dataset[:,-1]\n",
    "featureSet = np.delete(dataset,numFeatures,1)\n",
    "featureSet = np.delete(featureSet,8,1)\n",
    "featureSet = np.delete(featureSet,4,1)\n",
    "print(featureSet.shape)"
   ]
  },
  {
   "cell_type": "code",
   "execution_count": 65,
   "metadata": {},
   "outputs": [
    {
     "name": "stdout",
     "output_type": "stream",
     "text": [
      "(800, 9)\n",
      "(800,)\n"
     ]
    }
   ],
   "source": [
    "ee1 = featureSet[:800]\n",
    "ee2 = labels[:800]\n",
    "print (ee1.shape)\n",
    "print (ee2.shape)"
   ]
  },
  {
   "cell_type": "code",
   "execution_count": 66,
   "metadata": {},
   "outputs": [],
   "source": [
    "fields = ['verified', 'profile_location', 'profile_name', 'profile_image', 'profile_desc', 'fav_count', 'retweet_count', 'text', 'media',]"
   ]
  },
  {
   "cell_type": "code",
   "execution_count": 67,
   "metadata": {},
   "outputs": [
    {
     "name": "stdout",
     "output_type": "stream",
     "text": [
      "(1093,)\n"
     ]
    }
   ],
   "source": [
    "print(labels.shape)"
   ]
  },
  {
   "cell_type": "markdown",
   "metadata": {},
   "source": [
    "# Sentiment Analyzer"
   ]
  },
  {
   "cell_type": "code",
   "execution_count": 68,
   "metadata": {
    "scrolled": true
   },
   "outputs": [],
   "source": [
    "from vaderSentiment.vaderSentiment import SentimentIntensityAnalyzer\n",
    "analyzer = SentimentIntensityAnalyzer()\n",
    "\n",
    "def get_sentiment(sentence,lan):\n",
    "    if lan=='en':\n",
    "        vs = analyzer.polarity_scores(sentence)\n",
    "        return vs['compound']\n",
    "    else:\n",
    "        return None"
   ]
  },
  {
   "cell_type": "code",
   "execution_count": 69,
   "metadata": {},
   "outputs": [
    {
     "name": "stdout",
     "output_type": "stream",
     "text": [
      "-0.7712\n"
     ]
    }
   ],
   "source": [
    "print(get_sentiment(\"Bloody hell ! my friends towards #Durgapuri are all stuck in jam for hours now . Enough of cowardice @DelhiPolice\",\"en\"))"
   ]
  },
  {
   "cell_type": "code",
   "execution_count": 70,
   "metadata": {},
   "outputs": [
    {
     "name": "stdout",
     "output_type": "stream",
     "text": [
      "['False' 'Right behind you.' 'Anonymous'\n",
      " 'https://pbs.twimg.com/profile_images/468596776379760640/Ls02jaUP_normal.png'\n",
      " 'Supports digital and afk activism. #SaveTheInternet' '177' '703'\n",
      " 'Journalists being arrested in #Ferguson. This aggression will not stand, man RT @jonswaine: Just saw two reporters in ferguson cuffed'\n",
      " 'False']\n"
     ]
    }
   ],
   "source": [
    "print(featureSet[0])"
   ]
  },
  {
   "cell_type": "markdown",
   "metadata": {},
   "source": [
    "# Preprocessing of Training Set"
   ]
  },
  {
   "cell_type": "code",
   "execution_count": 71,
   "metadata": {},
   "outputs": [],
   "source": [
    "for sample in ee1:\n",
    "    for i in range(len(fields)):\n",
    "        if(fields[i]==\"verified\" or fields[i]==\"media\"):\n",
    "            if(sample[i]==\"True\"):\n",
    "                sample[i] = int(1)\n",
    "            else:\n",
    "                sample[i] = int(0)\n",
    "        \n",
    "        elif(fields[i]==\"profile_location\" or fields[i]==\"profile_name\" or fields[i]==\"profile_image\"):\n",
    "            if(sample[i]!=\"\" and sample[i]!=\" \"):\n",
    "                sample[i]=int(1)\n",
    "            else:\n",
    "                sample[i]=int(0)\n",
    "                \n",
    "        elif(fields[i]==\"profile_desc\" or fields[i]==\"text\"):\n",
    "            sample[i] = get_sentiment(sample[i],\"en\")\n",
    "            \n",
    "        else:\n",
    "            sample[i] = int(sample[i])"
   ]
  },
  {
   "cell_type": "code",
   "execution_count": 72,
   "metadata": {},
   "outputs": [],
   "source": [
    "for i in range(labels.shape[0]):\n",
    "    if(labels[i]==\"True\"):\n",
    "        labels[i]=1\n",
    "    else:\n",
    "        labels[i]=0"
   ]
  },
  {
   "cell_type": "code",
   "execution_count": 73,
   "metadata": {},
   "outputs": [],
   "source": [
    "labels = labels.astype(np.float64)\n",
    "ee1 = ee1.astype(np.float64)\n",
    "ee2 = ee2.astype(np.float64)"
   ]
  },
  {
   "cell_type": "markdown",
   "metadata": {},
   "source": [
    "# Multinomial Naive Bayes"
   ]
  },
  {
   "cell_type": "code",
   "execution_count": 74,
   "metadata": {},
   "outputs": [
    {
     "data": {
      "text/plain": [
       "MultinomialNB(alpha=1.0, class_prior=None, fit_prior=True)"
      ]
     },
     "execution_count": 74,
     "metadata": {},
     "output_type": "execute_result"
    }
   ],
   "source": [
    "from sklearn.naive_bayes import MultinomialNB\n",
    "ee1 = np.abs(ee1)\n",
    "gnb = MultinomialNB()\n",
    "gnb.fit(ee1,ee2)"
   ]
  },
  {
   "cell_type": "code",
   "execution_count": 135,
   "metadata": {},
   "outputs": [
    {
     "name": "stdout",
     "output_type": "stream",
     "text": [
      "Accuracy on the training set:\n",
      "0.56125\n"
     ]
    }
   ],
   "source": [
    "print(\"Accuracy on the training set:\")\n",
    "print(gnb.score(ee1,ee2))"
   ]
  },
  {
   "cell_type": "markdown",
   "metadata": {},
   "source": [
    "# Random Forest Classifier"
   ]
  },
  {
   "cell_type": "code",
   "execution_count": 24,
   "metadata": {},
   "outputs": [],
   "source": [
    "from sklearn.ensemble import RandomForestClassifier"
   ]
  },
  {
   "cell_type": "code",
   "execution_count": 26,
   "metadata": {},
   "outputs": [
    {
     "name": "stderr",
     "output_type": "stream",
     "text": [
      "/home/aarish/.local/lib/python3.7/site-packages/sklearn/ensemble/forest.py:245: FutureWarning: The default value of n_estimators will change from 10 in version 0.20 to 100 in 0.22.\n",
      "  \"10 in version 0.20 to 100 in 0.22.\", FutureWarning)\n"
     ]
    },
    {
     "data": {
      "text/plain": [
       "RandomForestClassifier(bootstrap=True, class_weight=None, criterion='gini',\n",
       "                       max_depth=None, max_features='auto', max_leaf_nodes=None,\n",
       "                       min_impurity_decrease=0.0, min_impurity_split=None,\n",
       "                       min_samples_leaf=1, min_samples_split=2,\n",
       "                       min_weight_fraction_leaf=0.0, n_estimators=10,\n",
       "                       n_jobs=None, oob_score=False, random_state=None,\n",
       "                       verbose=0, warm_start=False)"
      ]
     },
     "execution_count": 26,
     "metadata": {},
     "output_type": "execute_result"
    }
   ],
   "source": [
    "clf = RandomForestClassifier()\n",
    "clf.fit(ee1,ee2)"
   ]
  },
  {
   "cell_type": "code",
   "execution_count": 28,
   "metadata": {},
   "outputs": [
    {
     "name": "stdout",
     "output_type": "stream",
     "text": [
      "Accuracy on the Training Set:\n",
      "0.98375\n"
     ]
    }
   ],
   "source": [
    "print(\"Accuracy on the Training Set:\")\n",
    "print(clf.score(ee1,ee2))"
   ]
  },
  {
   "cell_type": "markdown",
   "metadata": {},
   "source": [
    "# Gaussian Naive Bayes "
   ]
  },
  {
   "cell_type": "code",
   "execution_count": 50,
   "metadata": {},
   "outputs": [
    {
     "data": {
      "text/plain": [
       "GaussianNB(priors=None, var_smoothing=1e-09)"
      ]
     },
     "execution_count": 50,
     "metadata": {},
     "output_type": "execute_result"
    }
   ],
   "source": [
    "from sklearn.naive_bayes import GaussianNB\n",
    "clf2 = GaussianNB()\n",
    "clf2.fit(ee1,ee2)"
   ]
  },
  {
   "cell_type": "code",
   "execution_count": 51,
   "metadata": {},
   "outputs": [
    {
     "name": "stdout",
     "output_type": "stream",
     "text": [
      "Accuracy on Training Set:\n",
      "0.315\n"
     ]
    }
   ],
   "source": [
    "print(\"Accuracy on Training Set:\")\n",
    "print(clf2.score(ee1,ee2))"
   ]
  },
  {
   "cell_type": "markdown",
   "metadata": {},
   "source": [
    "# DataSet , Preprocessing - Test"
   ]
  },
  {
   "cell_type": "code",
   "execution_count": 75,
   "metadata": {
    "scrolled": true
   },
   "outputs": [
    {
     "name": "stdout",
     "output_type": "stream",
     "text": [
      "Help\n",
      "1232794504891006976\n",
      "Rumour\n",
      "entered\n",
      "1232766445458575360\n",
      "Help\n",
      "1232762350287106048\n",
      "Rumour\n",
      "entered\n",
      "1232753880599089152\n",
      "Rumour\n",
      "entered\n",
      "1232753460535341057\n",
      "Rumour\n",
      "entered\n",
      "1232752283701694464\n",
      "Rumour\n",
      "entered\n",
      "1232751505607942145\n",
      "Rumour\n",
      "entered\n",
      "1232751342407561218\n",
      "Help\n",
      "1232748914232713218\n",
      "Help\n",
      "1232747764657860608\n",
      "Not Related\n",
      "1232479372373659648\n",
      "Action\n",
      "1231865011401904128\n",
      "Chaos\n",
      "1231509071553089537\n",
      "Complaint\n",
      "1227745985410940928\n",
      "Informatory\n",
      "1235186113632800770\n",
      "Informatory\n",
      "1235051360950685696\n",
      "Action\n",
      "1234458108723777539\n",
      "Informatory\n",
      "1233931674229952512\n",
      "Informatory\n",
      "1233713259946971137\n",
      "Help\n",
      "@DelhiPolice @ndtvindia\n",
      "Help\n",
      "1232905318973263872\n",
      "Rumour\n",
      "entered\n",
      "1232754432892424192\n",
      "Help\n",
      "1232746702542647296\n",
      "Help\n",
      "1232719442892574721\n",
      "Help\n",
      "1232714753660858374\n",
      "Help\n",
      "1232712596580515840\n",
      "Help\n",
      "1232565685966032896\n",
      "Help\n",
      "1232560317613268993\n",
      "Help\n",
      "1232552590958874624\n",
      "Rumour\n",
      "entered\n",
      "1232548501483085825\n",
      "Help\n",
      "1232546306134040576\n",
      "Informatory\n",
      "1232541633792507904\n",
      "Help\n",
      "1232540574466682880\n",
      "Help\n",
      "1232536821923340289\n",
      "Help\n",
      "1232532789976649729\n",
      "Informatory\n",
      "1.23E+18\n",
      "Rumour\n",
      "entered\n",
      "1232518319820787712\n",
      "Help\n",
      "1232389938592632833\n",
      "Rumour\n",
      "entered\n",
      "1232385448414191619\n",
      "Rumour\n",
      "entered\n",
      "1232385072747208711\n",
      "Help\n",
      "1232369036777922571\n",
      "Help\n",
      "1232366901533212673\n",
      "Help\n",
      "1232365042793840643\n",
      "Rumour\n",
      "entered\n",
      "1232358454020444163\n",
      "Interrogatory\n",
      "1232355840289656832\n",
      "Rumour\n",
      "entered\n",
      "1232350193376473089\n",
      "Help\n",
      "1232349047161327617\n",
      "Not Related\n",
      "1232346311925600256\n",
      "Informatory\n",
      "1232331420447543296\n",
      "Interrogatory\n",
      "1232306459628707841\n",
      "Help\n",
      "1232301694136004610\n",
      "Rumour\n",
      "entered\n",
      "1232298427922493440\n",
      "Help\n",
      "1232295358190911489\n",
      "Help\n",
      "1232286816029425664\n",
      "Help\n",
      "1232270217318928384\n",
      "Not Related\n",
      "1232269631387316224\n",
      "Help\n",
      "1232269586373935104\n",
      "Informatory\n",
      "1232245081396006912\n",
      "Rumour\n",
      "entered\n",
      "1232233759769948161\n",
      "Help\n",
      "1232216566747533312\n",
      "Informatory\n",
      "1232214574083919873\n",
      "Informatory\n",
      "1232204219068944384\n",
      "Help\n",
      "1232201585608077313\n",
      "Help\n",
      "1232114419318042625\n",
      "Informatory\n",
      "1231945243060129792\n",
      "Rumour\n",
      "entered\n",
      "1231895293014097920\n",
      "Rumour\n",
      "entered\n",
      "1231893969140715520\n",
      "Rumour\n",
      "entered\n",
      "1231606416445595648\n",
      "Help\n",
      "1229485917653676032\n",
      "Not Related\n",
      "1227483980875755520\n",
      "Help\n",
      "1232565685966032896\n",
      "Action\n",
      "1232560317613268993\n",
      "Help\n",
      "1232552590958874624\n",
      "Rumour\n",
      "entered\n",
      "1232548501483085825\n",
      "Help\n",
      "1232546306134040576\n",
      "Chaos\n",
      "1232541633792507904\n",
      "Help\n",
      "1232540574466682880\n",
      "Help\n",
      "1232536821923340289\n",
      "Help\n",
      "1232532789976649729\n",
      "Rumour\n",
      "entered\n",
      "1232518319820787712\n",
      "Rumour\n",
      "entered\n",
      "1232233759769948161\n",
      "Help\n",
      "1232216566747533312\n",
      "Action\n",
      "1232214574083919873\n",
      "Rumour\n",
      "entered\n",
      "1232204219068944384\n",
      "Help\n",
      "1232201585608077313\n",
      "Rumour\n",
      "entered\n",
      "1232114419318042625\n",
      "Not Related\n",
      "1227483980875755520\n",
      "Not Related\n",
      "1232479372373659648\n",
      "Chaos\n",
      "1231865011401904128\n",
      "Chaos\n",
      "1231509071553089537\n",
      "Not Related\n",
      "1227745985410940928\n",
      "Action\n",
      "1235051360950685696\n",
      "Action\n",
      "1233931674229952512\n",
      "Rumour\n",
      "entered\n",
      "1232905318973263872\n",
      "Chaos-related\n",
      "1232462149559054337\n",
      "Chaos-related\n",
      "1232424901778251776\n",
      "Chaos-related\n",
      "1232345474352349190\n",
      "Help-related\n",
      "1232321915001266177\n",
      "Non-related\n",
      "1232308246234488832\n",
      "Action-related\n",
      "1232298166860599301\n",
      "Help-related\n",
      "1232272759935455235\n",
      "Non-related\n",
      "1229271298880217090\n",
      "Non-related\n",
      "1227974897386680323\n",
      "Action-related\n",
      "1232283849096171520\n",
      "Rumour\n",
      "entered\n",
      "1232307310829166593\n",
      "Rumour\n",
      "entered\n",
      "1232181956554772480\n",
      "Help-related\n",
      "1232754783007600640\n",
      "83\n",
      "(107, 9)\n"
     ]
    }
   ],
   "source": [
    "featureSet_test = []\n",
    "labels_test = []\n",
    "with open(\"final_tweets.csv\",\"r\") as file:\n",
    "    file = csv.reader(file)\n",
    "    header = next(file)\n",
    "        \n",
    "    check = 0\n",
    "    count = 0\n",
    "    ids = {}\n",
    "    for row in file:\n",
    "        row_new = [0 for i in range(9)]\n",
    "        check = 0\n",
    "        handle = row[1]\n",
    "        user = api.get_user(screen_name=handle)\n",
    "        if user.verified:\n",
    "            row_new[0]=1\n",
    "            \n",
    "        if user.location is not None:\n",
    "            row_new[1]=1\n",
    "            \n",
    "        if user.name is not None or user.name!=\"\":\n",
    "            row_new[2]=1\n",
    "            \n",
    "        if \"profile_image_url_https\" in user.profile_image_url_https!=\"\":\n",
    "            row_new[3]=1\n",
    "            \n",
    "        row_new[4] = get_sentiment(user.description,\"en\")\n",
    "        row_new[5] = row[5]\n",
    "        row_new[6] = row[4]\n",
    "        row_new[7] = get_sentiment(row[6],\"en\")\n",
    "        \n",
    "            \n",
    "        permalink = row[11]\n",
    "        \n",
    "        print(row[16])\n",
    "        if(row[16]==\"Rumour\"):\n",
    "            print(\"entered\")\n",
    "            check = 1\n",
    "        \n",
    "        featureSet_test.append(row_new)\n",
    "        labels_test.append(check)\n",
    "        cur_id = (row[11].split('/')[-1])\n",
    "        print(cur_id)\n",
    "        ids[cur_id] = count\n",
    "        count += 1\n",
    "        \n",
    "featureSet_test = np.array(featureSet_test)\n",
    "featureSet_test = np.asarray(featureSet_test, dtype='float64')\n",
    "labels_test = np.array(labels_test)\n",
    "\n",
    "print(len(ids))\n",
    "print(featureSet_test.shape)\n",
    "# np.reshape(labels_test,(featureSet_test.shape[0],1))\n",
    "# prnit(featureSet_test.shape)"
   ]
  },
  {
   "cell_type": "markdown",
   "metadata": {},
   "source": [
    "# Loading the Saved Model"
   ]
  },
  {
   "cell_type": "code",
   "execution_count": 76,
   "metadata": {},
   "outputs": [
    {
     "name": "stderr",
     "output_type": "stream",
     "text": [
      "/usr/local/lib/python3.7/dist-packages/sklearn/base.py:318: UserWarning: Trying to unpickle estimator MultinomialNB from version 0.21.2 when using version 0.22.2.post1. This might lead to breaking code or invalid results. Use at your own risk.\n",
      "  UserWarning)\n"
     ]
    }
   ],
   "source": [
    "import pickle\n",
    "def load():\n",
    "    dbfile = open('model', 'rb')\n",
    "    db = pickle.load(dbfile)\n",
    "    dbfile.close()\n",
    "    return db\n",
    "model = load()"
   ]
  },
  {
   "cell_type": "markdown",
   "metadata": {},
   "source": [
    "# Multinomial Naive Bayes"
   ]
  },
  {
   "cell_type": "code",
   "execution_count": 77,
   "metadata": {},
   "outputs": [],
   "source": [
    "import numpy as np\n",
    "featureSet_test = np.asarray(featureSet_test, dtype='float64')\n",
    "labels_test = np.asarray(labels_test, dtype='float64')\n",
    "q = model.predict(featureSet_test)\n",
    "q = np.asarray(q, dtype='float64')"
   ]
  },
  {
   "cell_type": "markdown",
   "metadata": {},
   "source": [
    "# Accuracy"
   ]
  },
  {
   "cell_type": "code",
   "execution_count": 78,
   "metadata": {},
   "outputs": [],
   "source": [
    "def accuracy(a,b):\n",
    "    return np.sum(a==b)/(b.shape[0])"
   ]
  },
  {
   "cell_type": "code",
   "execution_count": 79,
   "metadata": {},
   "outputs": [
    {
     "name": "stdout",
     "output_type": "stream",
     "text": [
      "Accuracy on Test Set:\n",
      "0.5794392523364486\n"
     ]
    }
   ],
   "source": [
    "print(\"Accuracy on Test Set:\")\n",
    "print(accuracy(q,labels_test))\n",
    "# print(model.score(featureSet_test,labels_test))"
   ]
  },
  {
   "cell_type": "markdown",
   "metadata": {},
   "source": [
    "# True Positives"
   ]
  },
  {
   "cell_type": "code",
   "execution_count": 81,
   "metadata": {},
   "outputs": [
    {
     "name": "stdout",
     "output_type": "stream",
     "text": [
      "11\n",
      "26\n"
     ]
    }
   ],
   "source": [
    "def check(predicted):\n",
    "    count = 0 \n",
    "    pp = 0\n",
    "    for i in range (len(predicted)) :\n",
    "        if predicted[i] == labels_test[i] and predicted[i] > 0 :\n",
    "            count+=1\n",
    "        if labels_test[i] == 1.0:\n",
    "            pp+=1\n",
    "    print (count)\n",
    "    print (pp)\n",
    "check(q)"
   ]
  },
  {
   "cell_type": "markdown",
   "metadata": {},
   "source": [
    "# Confusion Matrix"
   ]
  },
  {
   "cell_type": "code",
   "execution_count": 82,
   "metadata": {},
   "outputs": [
    {
     "name": "stdout",
     "output_type": "stream",
     "text": [
      "Confusion Matrix for the model:\n",
      "[[51 30]\n",
      " [15 11]]\n"
     ]
    }
   ],
   "source": [
    "from sklearn.metrics import confusion_matrix\n",
    "print(\"Confusion Matrix for the model:\")\n",
    "print(confusion_matrix(labels_test,q))"
   ]
  },
  {
   "cell_type": "markdown",
   "metadata": {},
   "source": [
    "# ROC Curve"
   ]
  },
  {
   "cell_type": "code",
   "execution_count": 83,
   "metadata": {},
   "outputs": [
    {
     "name": "stdout",
     "output_type": "stream",
     "text": [
      "(800,)\n",
      "(107, 2)\n"
     ]
    }
   ],
   "source": [
    "from sklearn.metrics import roc_curve, auc\n",
    "print(ee2.shape)\n",
    "y_score = model.predict_proba(featureSet_test)\n",
    "print(y_score.shape)\n",
    "fpr, tpr, _ = roc_curve(labels_test,y_score[:,1])\n",
    "roc_auc = auc(fpr, tpr)"
   ]
  },
  {
   "cell_type": "code",
   "execution_count": 84,
   "metadata": {},
   "outputs": [
    {
     "data": {
      "image/png": "[encoded data removed]",
      "text/plain": [
       "<Figure size 432x288 with 1 Axes>"
      ]
     },
     "metadata": {
      "needs_background": "light"
     },
     "output_type": "display_data"
    }
   ],
   "source": [
    "import matplotlib.pyplot as plt\n",
    "plt.figure()\n",
    "lw = 2\n",
    "plt.plot(fpr, tpr, color='darkorange',\n",
    "         lw=lw, label='ROC curve (area = %0.2f)' % roc_auc)\n",
    "plt.plot([0, 1], [0, 1], color='navy', lw=lw, linestyle='--')\n",
    "plt.xlim([0.0, 1.0])\n",
    "plt.ylim([0.0, 1.05])\n",
    "plt.xlabel('False Positive Rate')\n",
    "plt.ylabel('True Positive Rate')\n",
    "plt.title('Receiver operating characteristic example')\n",
    "plt.legend(loc=\"lower right\")\n",
    "plt.show()"
   ]
  },
  {
   "cell_type": "markdown",
   "metadata": {},
   "source": [
    "# Random Forest Classifier "
   ]
  },
  {
   "cell_type": "code",
   "execution_count": 85,
   "metadata": {},
   "outputs": [
    {
     "name": "stdout",
     "output_type": "stream",
     "text": [
      "Accuracy on Test Set:\n",
      "0.7663551401869159\n",
      "2\n",
      "26\n"
     ]
    }
   ],
   "source": [
    "print(\"Accuracy on Test Set:\")\n",
    "print(clf.score(featureSet_test,labels_test))\n",
    "pred2 = clf.predict(featureSet_test)\n",
    "check(pred2)"
   ]
  },
  {
   "cell_type": "markdown",
   "metadata": {},
   "source": [
    "# Gaussian Naive Bayes"
   ]
  },
  {
   "cell_type": "code",
   "execution_count": 52,
   "metadata": {},
   "outputs": [
    {
     "name": "stdout",
     "output_type": "stream",
     "text": [
      "Accuracy on Test Set:\n",
      "0.2523364485981308\n",
      "26\n",
      "26\n"
     ]
    }
   ],
   "source": [
    "print(\"Accuracy on Test Set:\")\n",
    "print(clf2.score(featureSet_test,labels_test))\n",
    "pred3 = clf2.predict(featureSet_test)\n",
    "check(pred3)"
   ]
  },
  {
   "cell_type": "markdown",
   "metadata": {},
   "source": [
    "# Predictions of Multinomial Naive Bayes"
   ]
  },
  {
   "cell_type": "code",
   "execution_count": 27,
   "metadata": {},
   "outputs": [
    {
     "name": "stdout",
     "output_type": "stream",
     "text": [
      "Row Number 2 Predicted 0.0 Actual 0.0\n",
      "Row Number 3 Predicted 0.0 Actual 1.0\n",
      "Row Number 4 Predicted 0.0 Actual 0.0\n",
      "Row Number 5 Predicted 0.0 Actual 1.0\n",
      "Row Number 6 Predicted 0.0 Actual 1.0\n",
      "Row Number 7 Predicted 0.0 Actual 1.0\n",
      "Row Number 8 Predicted 0.0 Actual 1.0\n",
      "Row Number 9 Predicted 0.0 Actual 1.0\n",
      "Row Number 10 Predicted 1.0 Actual 0.0\n",
      "Row Number 11 Predicted 1.0 Actual 0.0\n",
      "Row Number 12 Predicted 1.0 Actual 0.0\n",
      "Row Number 13 Predicted 1.0 Actual 0.0\n",
      "Row Number 14 Predicted 0.0 Actual 0.0\n",
      "Row Number 15 Predicted 0.0 Actual 0.0\n",
      "Row Number 16 Predicted 1.0 Actual 0.0\n",
      "Row Number 17 Predicted 0.0 Actual 0.0\n",
      "Row Number 18 Predicted 0.0 Actual 0.0\n",
      "Row Number 19 Predicted 0.0 Actual 0.0\n",
      "Row Number 20 Predicted 1.0 Actual 0.0\n",
      "Row Number 21 Predicted 1.0 Actual 0.0\n",
      "Row Number 22 Predicted 0.0 Actual 0.0\n",
      "Row Number 23 Predicted 0.0 Actual 1.0\n",
      "Row Number 24 Predicted 1.0 Actual 0.0\n",
      "Row Number 25 Predicted 1.0 Actual 0.0\n",
      "Row Number 26 Predicted 0.0 Actual 0.0\n",
      "Row Number 27 Predicted 0.0 Actual 0.0\n",
      "Row Number 28 Predicted 0.0 Actual 0.0\n",
      "Row Number 29 Predicted 0.0 Actual 0.0\n",
      "Row Number 30 Predicted 0.0 Actual 0.0\n",
      "Row Number 31 Predicted 0.0 Actual 1.0\n",
      "Row Number 32 Predicted 0.0 Actual 0.0\n",
      "Row Number 33 Predicted 0.0 Actual 0.0\n",
      "Row Number 34 Predicted 0.0 Actual 0.0\n",
      "Row Number 35 Predicted 0.0 Actual 0.0\n",
      "Row Number 36 Predicted 0.0 Actual 0.0\n",
      "Row Number 37 Predicted 0.0 Actual 0.0\n",
      "Row Number 38 Predicted 1.0 Actual 1.0\n",
      "Row Number 39 Predicted 0.0 Actual 0.0\n",
      "Row Number 40 Predicted 0.0 Actual 1.0\n",
      "Row Number 41 Predicted 0.0 Actual 1.0\n",
      "Row Number 42 Predicted 0.0 Actual 0.0\n",
      "Row Number 43 Predicted 1.0 Actual 0.0\n",
      "Row Number 44 Predicted 0.0 Actual 0.0\n",
      "Row Number 45 Predicted 0.0 Actual 1.0\n",
      "Row Number 46 Predicted 0.0 Actual 0.0\n",
      "Row Number 47 Predicted 1.0 Actual 1.0\n",
      "Row Number 48 Predicted 0.0 Actual 0.0\n",
      "Row Number 49 Predicted 1.0 Actual 0.0\n",
      "Row Number 50 Predicted 0.0 Actual 0.0\n",
      "Row Number 51 Predicted 1.0 Actual 0.0\n",
      "Row Number 52 Predicted 0.0 Actual 0.0\n",
      "Row Number 53 Predicted 0.0 Actual 1.0\n",
      "Row Number 54 Predicted 1.0 Actual 0.0\n",
      "Row Number 55 Predicted 0.0 Actual 0.0\n",
      "Row Number 56 Predicted 0.0 Actual 0.0\n",
      "Row Number 57 Predicted 0.0 Actual 0.0\n",
      "Row Number 58 Predicted 0.0 Actual 0.0\n",
      "Row Number 59 Predicted 0.0 Actual 0.0\n",
      "Row Number 60 Predicted 1.0 Actual 1.0\n",
      "Row Number 61 Predicted 0.0 Actual 0.0\n",
      "Row Number 62 Predicted 1.0 Actual 0.0\n",
      "Row Number 63 Predicted 0.0 Actual 0.0\n",
      "Row Number 64 Predicted 1.0 Actual 0.0\n",
      "Row Number 65 Predicted 1.0 Actual 0.0\n",
      "Row Number 66 Predicted 1.0 Actual 0.0\n",
      "Row Number 67 Predicted 1.0 Actual 1.0\n",
      "Row Number 68 Predicted 1.0 Actual 1.0\n",
      "Row Number 69 Predicted 1.0 Actual 1.0\n",
      "Row Number 70 Predicted 1.0 Actual 0.0\n",
      "Row Number 71 Predicted 1.0 Actual 0.0\n",
      "Row Number 72 Predicted 0.0 Actual 0.0\n",
      "Row Number 73 Predicted 0.0 Actual 0.0\n",
      "Row Number 74 Predicted 0.0 Actual 0.0\n",
      "Row Number 75 Predicted 0.0 Actual 1.0\n",
      "Row Number 76 Predicted 0.0 Actual 0.0\n",
      "Row Number 77 Predicted 0.0 Actual 0.0\n",
      "Row Number 78 Predicted 0.0 Actual 0.0\n",
      "Row Number 79 Predicted 0.0 Actual 0.0\n",
      "Row Number 80 Predicted 0.0 Actual 0.0\n",
      "Row Number 81 Predicted 1.0 Actual 1.0\n",
      "Row Number 82 Predicted 1.0 Actual 1.0\n",
      "Row Number 83 Predicted 0.0 Actual 0.0\n",
      "Row Number 84 Predicted 1.0 Actual 0.0\n",
      "Row Number 85 Predicted 0.0 Actual 1.0\n",
      "Row Number 86 Predicted 1.0 Actual 0.0\n",
      "Row Number 87 Predicted 1.0 Actual 1.0\n",
      "Row Number 88 Predicted 1.0 Actual 0.0\n",
      "Row Number 89 Predicted 1.0 Actual 0.0\n",
      "Row Number 90 Predicted 1.0 Actual 0.0\n",
      "Row Number 91 Predicted 0.0 Actual 0.0\n",
      "Row Number 92 Predicted 0.0 Actual 0.0\n",
      "Row Number 93 Predicted 0.0 Actual 0.0\n",
      "Row Number 94 Predicted 0.0 Actual 0.0\n",
      "Row Number 95 Predicted 0.0 Actual 1.0\n",
      "Row Number 96 Predicted 0.0 Actual 0.0\n",
      "Row Number 97 Predicted 1.0 Actual 0.0\n",
      "Row Number 98 Predicted 1.0 Actual 0.0\n",
      "Row Number 99 Predicted 1.0 Actual 0.0\n",
      "Row Number 100 Predicted 1.0 Actual 0.0\n",
      "Row Number 101 Predicted 0.0 Actual 0.0\n",
      "Row Number 102 Predicted 1.0 Actual 0.0\n",
      "Row Number 103 Predicted 0.0 Actual 0.0\n",
      "Row Number 104 Predicted 0.0 Actual 0.0\n",
      "Row Number 105 Predicted 1.0 Actual 0.0\n",
      "Row Number 106 Predicted 1.0 Actual 1.0\n",
      "Row Number 107 Predicted 1.0 Actual 1.0\n",
      "Row Number 108 Predicted 0.0 Actual 0.0\n"
     ]
    }
   ],
   "source": [
    "for i in range(len(q)):\n",
    "    print ('Row Number', i+2, 'Predicted',q[i],'Actual',labels_test[i])"
   ]
  },
  {
   "cell_type": "markdown",
   "metadata": {},
   "source": [
    "# Rumour Spread Function"
   ]
  },
  {
   "cell_type": "code",
   "execution_count": 86,
   "metadata": {},
   "outputs": [],
   "source": [
    "def rumour_spread(id):\n",
    "    id = str(id)\n",
    "    cur_feature = featureSet_test[ids[id]]\n",
    "    print(model.predict_proba(cur_feature.reshape(1, -1)))"
   ]
  },
  {
   "cell_type": "code",
   "execution_count": 87,
   "metadata": {},
   "outputs": [
    {
     "name": "stdout",
     "output_type": "stream",
     "text": [
      "[[0.62763142 0.37236858]]\n",
      "None\n"
     ]
    }
   ],
   "source": [
    "print(rumour_spread(1229271298880217090))"
   ]
  }
 ],
 "metadata": {
  "kernelspec": {
   "display_name": "Python 3",
   "language": "python",
   "name": "python3"
  },
  "language_info": {
   "codemirror_mode": {
    "name": "ipython",
    "version": 3
   },
   "file_extension": ".py",
   "mimetype": "text/x-python",
   "name": "python",
   "nbconvert_exporter": "python",
   "pygments_lexer": "ipython3",
   "version": "3.7.3"
  }
 },
 "nbformat": 4,
 "nbformat_minor": 2
}
