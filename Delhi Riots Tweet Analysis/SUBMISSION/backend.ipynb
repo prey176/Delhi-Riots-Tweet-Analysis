{
 "cells": [
  {
   "cell_type": "code",
   "execution_count": 1,
   "metadata": {},
   "outputs": [],
   "source": [
    "import csv\n",
    "import numpy as np\n",
    "import os\n",
    "import tweepy\n",
    "import pickle\n",
    "from sklearn.naive_bayes import MultinomialNB"
   ]
  },
  {
   "cell_type": "code",
   "execution_count": 2,
   "metadata": {},
   "outputs": [
    {
     "name": "stdout",
     "output_type": "stream",
     "text": [
      "Authentication successfull!!! :D\n"
     ]
    }
   ],
   "source": [
    "#Consumer Key (API Key), Consumer Secret (API Secret)\n",
    "auth = tweepy.OAuthHandler('s9iqHQMCnqbRSTYLZijznltjj', 'edpnKGn7l90SPKoFBc5eiBi2kEjb5sFe5CfH2vZ4O51g1lvfXw')\n",
    "# Access Token, Access Token Secret\n",
    "auth.set_access_token('914187849875914752-qyp1TmXtXp4BDUOzknUlPdF9owp582g', '7SpLBABZOAnph1j1AmA6AYodpdWdRx0IXHaWQ7muTwQKM')\n",
    "api = tweepy.API(auth)\n",
    "if (not api):\n",
    "    print(\"Authentication failed :(\")\n",
    "else:\n",
    "    print(\"Authentication successfull!!! :D\")"
   ]
  },
  {
   "cell_type": "code",
   "execution_count": 3,
   "metadata": {},
   "outputs": [],
   "source": [
    "def getmodel():\n",
    "    dbfile = open('model', 'rb')\n",
    "    db = pickle.load(dbfile)\n",
    "    dbfile.close()\n",
    "    return db"
   ]
  },
  {
   "cell_type": "code",
   "execution_count": 4,
   "metadata": {},
   "outputs": [],
   "source": [
    "from vaderSentiment.vaderSentiment import SentimentIntensityAnalyzer\n",
    "analyzer = SentimentIntensityAnalyzer()\n",
    "\n",
    "def get_sentiment(sentence,lan):\n",
    "    if lan=='en':\n",
    "        vs = analyzer.polarity_scores(sentence)\n",
    "        return vs['compound']\n",
    "    else:\n",
    "        return None"
   ]
  },
  {
   "cell_type": "code",
   "execution_count": 5,
   "metadata": {},
   "outputs": [],
   "source": [
    "def feature_list(url) :\n",
    "    # url will be of the form https://twitter.com/handle/status/tweet_id\n",
    "    \n",
    "    handle = url.split('/')[-3]\n",
    "    id_ = int(url.split('/')[-1])\n",
    "    tweet = api.get_status(id_,tweet_mode='extended')\n",
    "    row_new = [0 for i in range(9)]\n",
    "    check = 0\n",
    "    user = api.get_user(screen_name=handle)\n",
    "    if user.verified:\n",
    "        row_new[0]=1\n",
    "\n",
    "    if user.location is not None:\n",
    "        row_new[1]=1\n",
    "\n",
    "    if user.name is not None or user.name!=\"\":\n",
    "        row_new[2]=1\n",
    "\n",
    "    if \"profile_image_url_https\" in user.profile_image_url_https!=\"\":\n",
    "        row_new[3]=1\n",
    "\n",
    "    row_new[4] = get_sentiment(user.description,\"en\")\n",
    "    row_new[5] = tweet.favorite_count\n",
    "    row_new[6] = tweet.retweet_count\n",
    "    row_new[7] = get_sentiment(tweet.full_text,\"en\")\n",
    "    \n",
    "    featureSet_test = np.array([row_new])\n",
    "    featureSet_test = np.asarray(featureSet_test, dtype='float64')\n",
    "    \n",
    "    return featureSet_test"
   ]
  },
  {
   "cell_type": "code",
   "execution_count": 9,
   "metadata": {},
   "outputs": [],
   "source": [
    "def solve(url = 'https://twitter.com/PettyPraxis/status/1232793544860979201') :\n",
    "    model = getmodel()\n",
    "    featureSet_test = feature_list(url)\n",
    "    predict = model.predict(featureSet_test)\n",
    "    if (predict == '0') :\n",
    "        return 'Not Rumour'\n",
    "    else :\n",
    "        return 'Rumour'"
   ]
  }
 ],
 "metadata": {
  "kernelspec": {
   "display_name": "Python 3",
   "language": "python",
   "name": "python3"
  },
  "language_info": {
   "codemirror_mode": {
    "name": "ipython",
    "version": 3
   },
   "file_extension": ".py",
   "mimetype": "text/x-python",
   "name": "python",
   "nbconvert_exporter": "python",
   "pygments_lexer": "ipython3",
   "version": "3.7.3"
  }
 },
 "nbformat": 4,
 "nbformat_minor": 2
}
