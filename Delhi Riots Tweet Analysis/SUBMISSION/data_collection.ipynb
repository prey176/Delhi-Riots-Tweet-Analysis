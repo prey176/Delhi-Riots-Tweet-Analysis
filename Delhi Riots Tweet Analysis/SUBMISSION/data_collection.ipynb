{
 "cells": [
  {
   "cell_type": "code",
   "execution_count": 1,
   "metadata": {
    "scrolled": true
   },
   "outputs": [
    {
     "name": "stdout",
     "output_type": "stream",
     "text": [
      "14\n",
      "28\n",
      "90\n",
      "152\n",
      "166\n",
      "228\n",
      "228\n",
      "228\n",
      "243\n",
      "258\n",
      "258\n",
      "273\n",
      "273\n",
      "273\n",
      "273\n",
      "273\n",
      "273\n",
      "273\n",
      "273\n",
      "273\n",
      "273\n",
      "273\n",
      "273\n",
      "273\n",
      "273\n",
      "273\n",
      "273\n",
      "273\n",
      "273\n",
      "273\n",
      "274\n",
      "275\n",
      "284\n",
      "293\n",
      "294\n",
      "303\n",
      "304\n",
      "305\n",
      "308\n",
      "311\n",
      "312\n",
      "315\n",
      "315\n",
      "315\n",
      "315\n",
      "315\n",
      "315\n",
      "315\n",
      "315\n",
      "315\n",
      "315\n",
      "315\n",
      "315\n",
      "315\n",
      "315\n"
     ]
    }
   ],
   "source": [
    "import GetOldTweets3 as got\n",
    "\n",
    "accounts = [\"@DelhiPolice \", \"@CPDelhi \", \"@DCPSouthDelhi \", \"@DCPEastDelhi \", \"@DCPSEastDelhi \", \"@DCPNEastDelhi \", \"@DcpNorthDelhi \", \"@DCPCentralDelhi \", \"@DCPNewDelhi \"]\n",
    "locations = ['Durgapuri','durgapuri','brijpuri','Brijpuri','DURGAPURI', 'BRIJPURI']\n",
    "\n",
    "tweets = []\n",
    "for acc in accounts:\n",
    "    for loc in locations:\n",
    "        tweetCriteria = got.manager.TweetCriteria().setQuerySearch(acc + loc)\\\n",
    "                                               .setSince(\"2020-02-01\")\\\n",
    "                                               .setUntil(\"2020-03-06\")\\\n",
    "                                               .setMaxTweets(1000)\n",
    "        tweets += got.manager.TweetManager.getTweets(tweetCriteria)\n",
    "        print(len(tweets))\n",
    "print(len(tweets))"
   ]
  },
  {
   "cell_type": "code",
   "execution_count": 7,
   "metadata": {},
   "outputs": [
    {
     "name": "stdout",
     "output_type": "stream",
     "text": [
      "<class 'GetOldTweets3.models.Tweet.Tweet'>\n"
     ]
    },
    {
     "ename": "AttributeError",
     "evalue": "'Tweet' object has no attribute 'entities'",
     "output_type": "error",
     "traceback": [
      "\u001b[0;31m---------------------------------------------------------------------------\u001b[0m",
      "\u001b[0;31mAttributeError\u001b[0m                            Traceback (most recent call last)",
      "\u001b[0;32m<ipython-input-7-57c7e5334299>\u001b[0m in \u001b[0;36m<module>\u001b[0;34m\u001b[0m\n\u001b[1;32m     18\u001b[0m             \u001b[0mt\u001b[0m\u001b[0;34m.\u001b[0m\u001b[0mid\u001b[0m\u001b[0;34m,\u001b[0m\u001b[0;34m\u001b[0m\u001b[0;34m\u001b[0m\u001b[0m\n\u001b[1;32m     19\u001b[0m             \u001b[0mt\u001b[0m\u001b[0;34m.\u001b[0m\u001b[0mpermalink\u001b[0m\u001b[0;34m,\u001b[0m\u001b[0;34m\u001b[0m\u001b[0;34m\u001b[0m\u001b[0m\n\u001b[0;32m---> 20\u001b[0;31m             t.entities]\n\u001b[0m\u001b[1;32m     21\u001b[0m     \u001b[0mdata\u001b[0m\u001b[0;34m[\u001b[0m\u001b[0;34m:\u001b[0m\u001b[0;34m]\u001b[0m \u001b[0;34m=\u001b[0m \u001b[0;34m[\u001b[0m\u001b[0mi\u001b[0m \u001b[0;32mif\u001b[0m \u001b[0misinstance\u001b[0m\u001b[0;34m(\u001b[0m\u001b[0mi\u001b[0m\u001b[0;34m,\u001b[0m \u001b[0mstr\u001b[0m\u001b[0;34m)\u001b[0m \u001b[0;32melse\u001b[0m \u001b[0mstr\u001b[0m\u001b[0;34m(\u001b[0m\u001b[0mi\u001b[0m\u001b[0;34m)\u001b[0m \u001b[0;32mfor\u001b[0m \u001b[0mi\u001b[0m \u001b[0;32min\u001b[0m \u001b[0mdata\u001b[0m\u001b[0;34m]\u001b[0m\u001b[0;34m\u001b[0m\u001b[0;34m\u001b[0m\u001b[0m\n\u001b[1;32m     22\u001b[0m     \u001b[0moutputFile\u001b[0m\u001b[0;34m.\u001b[0m\u001b[0mwrite\u001b[0m\u001b[0;34m(\u001b[0m\u001b[0;34m','\u001b[0m\u001b[0;34m.\u001b[0m\u001b[0mjoin\u001b[0m\u001b[0;34m(\u001b[0m\u001b[0mdata\u001b[0m\u001b[0;34m)\u001b[0m \u001b[0;34m+\u001b[0m \u001b[0;34m'\\n'\u001b[0m\u001b[0;34m)\u001b[0m\u001b[0;34m\u001b[0m\u001b[0;34m\u001b[0m\u001b[0m\n",
      "\u001b[0;31mAttributeError\u001b[0m: 'Tweet' object has no attribute 'entities'"
     ]
    }
   ],
   "source": [
    "outputFile = open(\"temp_tweets.csv\", \"w+\", encoding=\"utf8\")\n",
    "outputFile.write('date,username,to,replies,retweets,favorites,text,geo,mentions,hashtags,id,permalink\\n')\n",
    "import json\n",
    "\n",
    "for t in tweets:\n",
    "    y = str(t)\n",
    "    print(type(t))\n",
    "    data = [t.date.strftime(\"%Y-%m-%d %H:%M:%S\"),\n",
    "            t.username,\n",
    "            t.to or '',\n",
    "            t.replies,\n",
    "            t.retweets,\n",
    "            t.favorites,\n",
    "            '\"'+t.text.replace('\"','\"\"')+'\"',\n",
    "            t.geo,\n",
    "            t.mentions,\n",
    "            t.hashtags,\n",
    "            t.id,\n",
    "            t.permalink]\n",
    "    data[:] = [i if isinstance(i, str) else str(i) for i in data]\n",
    "    outputFile.write(','.join(data) + '\\n')\n",
    "outputFile.flush()\n"
   ]
  },
  {
   "cell_type": "code",
   "execution_count": null,
   "metadata": {},
   "outputs": [],
   "source": []
  }
 ],
 "metadata": {
  "kernelspec": {
   "display_name": "Python 3",
   "language": "python",
   "name": "python3"
  },
  "language_info": {
   "codemirror_mode": {
    "name": "ipython",
    "version": 3
   },
   "file_extension": ".py",
   "mimetype": "text/x-python",
   "name": "python",
   "nbconvert_exporter": "python",
   "pygments_lexer": "ipython3",
   "version": "3.7.3"
  }
 },
 "nbformat": 4,
 "nbformat_minor": 4
}
